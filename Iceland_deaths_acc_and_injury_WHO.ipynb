{
 "cells": [
  {
   "cell_type": "markdown",
   "metadata": {},
   "source": [
    "# Deaths due to Accident and Injury in Iceland\n",
    "# World Health Organization Data"
   ]
  },
  {
   "cell_type": "markdown",
   "metadata": {},
   "source": [
    "**Author:** Thomas Body<br>\n",
    "https://github.com/tombody"
   ]
  },
  {
   "cell_type": "markdown",
   "metadata": {},
   "source": [
    "---\n",
    "## Introduction\n",
    "\n",
    "### Purpose of the Report\n",
    "\n",
    "This report was prepared to analyse and interpret the data surrounding the issues of injuries, violence and mortality rates in Iceland. This is in line with the surveillance step of the World Health Organization (WHO) data based prevention and control of injuries and violence (WHO 2014).\n",
    "\n",
    "### Research Questions\n",
    "\n",
    "- What are the current leading causes of injury deaths in Iceland?\n",
    "\n",
    "- Have injury deaths risen in rank over the last thirty years?\n",
    "\n",
    "- Are some groups more vulnerable to injuries and violence than others?\n",
    "\n",
    "- Does poverty increase the risk of injury?\n",
    "\n",
    "### Injuries and Violence\n",
    "\n",
    "More than five million people die every year as a result of injuries and violence, which accounts for roughly nine percent of the world's deaths (WHO 2014 p.5). To add to this, the number of non-fatal consequences of injuries and violence massively exceed those of fatal, with temporary or permanent disabilities caused by violence and injuries totalling an estimated six percent of the total years lived globally (WHO 2014 p.5). The effects of non-fatal injuries manifest themselves in a large number of consequences, both physical and mental in nature. These include road traffic injuries, homicide, suicide, drowning, burns, falls and the effects of war (WHO 2014 pp.8-9).\n",
    "\n",
    "To help prevent the effects of injuries and violence, WHO has identified a need for evidence-based strategies, to be implemented globally for specific circumstances based on the needs each individual area (WHO 2014 p.15). A four step data based response to prevention and control has been put into use in a number of countries to this effect. \n",
    "\n",
    "<img src=\"Images/prevention_and_control.jpg\"></img>\n",
    "\n",
    "<strong><center><small>Figure 1 - Prevention and Control <br>(WHO 2014 p.15) </small></center></strong>\n",
    "\n",
    "Of these four steps, this report focuses on the surveillance step, which is using data to understand the extent and nature of the injury or violence problem (WHO 2014 p.15).\n",
    "\n",
    "\n",
    "### Background of Iceland\n",
    "\n",
    "The Republic of Iceland is a large island located in Northern Europe, between the North Atlantic Ocean and the Greenland Sea. It shares no land borders with any other countries and has a total area of 103,000 square kilometres (CIA 2017b).\n",
    "\n",
    "With a population of 339,747, Iceland ranks as the 178th most populous nation in the World (CIA 2017b). Half of the population resides in and around the capital, Reykjavik, in a mostly urbanized environment (CIA 2017b). The 2016 Gross Domestic Product (GDP) was 16.52 billion international dollars, which places Iceland as the 151st largest economy in the World (CIA 2017b).\n",
    "\n",
    "On the Human Development Index (HDI), which takes into account economic, education, health, and general standard of living factors, Iceland ranks 9th, which places the country in the Very High Human Development group (UN Development Program 2017).\n",
    "\n",
    "Iceland's WHO region code is _Eur HI_, which indicates that Iceland is in the region of Europe and is considered high income (WHO 2013).\n",
    "\n",
    "### Key Statistics\n",
    "\n",
    "These statistics are all taken from the Central Intelligence Agency (CIA) factbook website (CIA 2017b).\n",
    "\n",
    "- _Median Age_: 36.3 years\n",
    "- _Population Growth Rate_: 1.1% growth\n",
    "- _Birth Rate_: 13.7 births per 1000 population\n",
    "- _Death Rage_: 6.4 deaths per 1000 population\n",
    "- _Life Expectancy_: 83.0 years\n",
    "- _Health Expenditure_: 8.9% of GDP (2014)"
   ]
  },
  {
   "cell_type": "markdown",
   "metadata": {},
   "source": [
    "---\n",
    "## Datasets\n",
    "\n",
    "### WHO Mortality Database\n",
    "\n",
    "The WHO Mortality Database is a database of registered deaths compiled by WHO from data given by national authorities around the world (WHO 2015 p.2). The cause of each death is classified by the circumstances that led to death, which is done in accordance to the International Classification of Diseases (ICD). All of this information is collated into a number of Comma Separated Value (CSV) files, which can be found on the WHO Mortality Database website (WHO 2017c). These CSV files are named Morticd, and are numbered from 07 to 10, with 10 having a part 1 and part 2. Part 10 has been split due to its size. These files are continually updated with relevant data by WHO (WHO 2015).\n",
    "\n",
    "### Country Codes\n",
    "\n",
    "The WHO mortality database has a system where each country is given a four digit country code, which is used exclusively to identify the country in all of their datasets (WHO 2015). For Iceland, this number is _4160_.\n",
    "\n",
    "### ICD Files\n",
    "\n",
    "The ICD files are numbered from 07 to 10, are ordered by year. The relevant columns in the ICD files are as follows (WHO 2015):\n",
    "\n",
    "- `Country`: The four digit country code.\n",
    "- `Year`: The relevant year for the data.\n",
    "- `List`: Identifies the ICD classification used.\n",
    "- `Cause`: A four digit code that identifies the cause of death.\n",
    "- `Sex`: The sex of the victim. 1 is male, 2 is female, 9 is unspecified.\n",
    "- `Frmat`: The age group format for the breakdown of deaths.\n",
    "- `Deaths#`: Identifies the age of adult deaths separated into 26 groups, where # is a number that ranges from 1 to 26. Note that _Deaths1_ totals the number of deaths for all ages.\n",
    "\n",
    "\n",
    "### Causes of Death\n",
    "\n",
    "Please refer to Appendix A for a list of codes for deaths classified as due to accident, injury or violence. Note that in places, accident, injury and violence deaths are referred to as external deaths. The list is separated into ICD revisions, with only the relevant revisions for this report being stated. Note that although the 7th and 8th revisions use the same accident _cause codes_, some of the accident _causes_ are different in each revision.\n",
    "\n",
    "Iceland reports with list 104 under ICD10, and all of the cause codes in the Morticd10 part 1 and 2 files are reported as detailed list numbers rather than the normal accident codes. The detailed list codes for all external causes range from V00-Y89. The causes can be seen in Appendix A.\n"
   ]
  },
  {
   "cell_type": "markdown",
   "metadata": {},
   "source": [
    "### Importing the data\n",
    "\n",
    "The imported data comes following files:\n",
    "\n",
    "- Morticd7.csv (Last updated Feb 2004)\n",
    "- Morticd8.csv (Last updated Jul 2012)\n",
    "- Morticd9.csv (Last updated Nov 2015)\n",
    "- Morticd10_part1.csv (Last updated Nov 2015)\n",
    "- Morticd10_part2.csv (Last updated Nov 2015)\n",
    "\n",
    "Each file is imported into a separate dataframe, which is named after the relevant ICD revision. These are then joined into three separate dataframes.\n",
    "\n",
    "- `icd_all`: contains the data from every file.\n",
    "- `icd_789`: contains the data from revisions 7, 8 and 9.\n",
    "- `icd_10`: contrains the data from revision 10 part 1 and 2.\n",
    "\n",
    "Three more dataframes are made from these with only information for Iceland.\n",
    "\n",
    "- `icd_all_isl`\n",
    "- `icd_789_isl`\n",
    "- `icd_10_isl`\n"
   ]
  },
  {
   "cell_type": "code",
   "execution_count": 1,
   "metadata": {
    "collapsed": true
   },
   "outputs": [],
   "source": [
    "import pandas as pd\n",
    "\n",
    "# Imports all of the files into dataframes.\n",
    "icd7 = pd.read_csv(\"Project_Files/Morticd7.csv\", dtype={'SubDiv':object})\n",
    "icd8 = pd.read_csv(\"Project_Files/Morticd8.csv\",dtype={'SubDiv':object})\n",
    "icd9 = pd.read_csv(\"Project_Files/Morticd9.csv\",dtype={'SubDiv':object})\n",
    "icd10_1 = pd.read_csv(\"Project_Files/Morticd10_part1.csv\",dtype={'List':object})\n",
    "icd10_2 = pd.read_csv(\"Project_Files/Morticd10_part2.csv\",dtype={'SubDiv':object,'List':object})"
   ]
  },
  {
   "cell_type": "code",
   "execution_count": 2,
   "metadata": {
    "collapsed": true
   },
   "outputs": [],
   "source": [
    "# Converts the Year column to datetime.\n",
    "icd7['Year'] = pd.to_datetime(icd7['Year'], format='%Y')\n",
    "icd8['Year'] = pd.to_datetime(icd8['Year'], format='%Y')\n",
    "icd9['Year'] = pd.to_datetime(icd9['Year'], format='%Y')\n",
    "icd10_1['Year'] = pd.to_datetime(icd10_1['Year'], format='%Y')\n",
    "icd10_2['Year'] = pd.to_datetime(icd10_2['Year'], format='%Y')"
   ]
  },
  {
   "cell_type": "code",
   "execution_count": 3,
   "metadata": {
    "collapsed": true
   },
   "outputs": [],
   "source": [
    "# Combines all the ICD dataframes into a single dataframe.\n",
    "icd_all = pd.concat([icd7,icd8,icd9,icd10_1,icd10_2])\n",
    "\n",
    "# Combines the data from ICD dataframes for revisions 7, 8 and 9.\n",
    "icd_789 = pd.concat([icd7,icd8,icd9])\n",
    "\n",
    "# Combines the data from ICD dataframes for revision 10 part 1 and 2.\n",
    "icd_10 = pd.concat([icd10_1,icd10_2])\n",
    "\n",
    "# Creates dataframes with only information for Iceland.\n",
    "icd_all_isl = icd_all[icd_all['Country']==4160]\n",
    "icd_789_isl = icd_789[icd_789['Country']==4160]\n",
    "icd_10_isl = icd_10[icd_10['Country']==4160]"
   ]
  },
  {
   "cell_type": "markdown",
   "metadata": {},
   "source": [
    "### Accident and Injury code lists\n",
    "\n",
    "For the 7th, 8th and 9th ICD code revisions, lists containing all the cause codes have been made to filter the dataframes by. For the 10th revision, the cause codes need to be searched for any that contain a _V_, _W_, _X_ or _Y_. This is due to the detailed codes being used in the cause column of the data.\n"
   ]
  },
  {
   "cell_type": "code",
   "execution_count": 4,
   "metadata": {
    "collapsed": true
   },
   "outputs": [],
   "source": [
    "# Creates a list of accident cause codes for each icd revision.\n",
    "acc_code_7A_8A=['A138','A139','A140','A141','A142','A143','A144',\n",
    "                'A145','A146','A147','A148','A149','A150']\n",
    "acc_code_7B_8B=['B047','B048','B049','B050']\n",
    "acc_code_9=['B47','B470','B471','B472','B473','B474','B479',\n",
    "            'B48','B480','B481','B482','B49','B50','B51',\n",
    "            'B52','B520','B521','B522','B523','B524','B529',\n",
    "            'B53','B54','B55','B56','B560','B561','B569', 'CH17']\n",
    "\n",
    "# Creates a list of accident cause codes for ICD revisions 7,8 and 9.\n",
    "acc_code_789 = acc_code_7A_8A+acc_code_7B_8B+acc_code_9"
   ]
  },
  {
   "cell_type": "markdown",
   "metadata": {},
   "source": [
    "### Leading Causes of Death in Iceland\n",
    "\n",
    "Before investigating the research questions, we can look at the overall leading causes for all deaths in Iceland.\n",
    "\n",
    "The column *Deaths1* is a total for all deaths irrespective of age. This column should be sorted by ascending value.\n",
    "\n",
    "There are a number of cause codes that need to be excluded, as they collate the number of deaths for all causes. These are A000, B000, B00, and AAA."
   ]
  },
  {
   "cell_type": "code",
   "execution_count": 5,
   "metadata": {
    "scrolled": true
   },
   "outputs": [
    {
     "data": {
      "text/html": [
       "<div>\n",
       "<style>\n",
       "    .dataframe thead tr:only-child th {\n",
       "        text-align: right;\n",
       "    }\n",
       "\n",
       "    .dataframe thead th {\n",
       "        text-align: left;\n",
       "    }\n",
       "\n",
       "    .dataframe tbody tr th {\n",
       "        vertical-align: top;\n",
       "    }\n",
       "</style>\n",
       "<table border=\"1\" class=\"dataframe\">\n",
       "  <thead>\n",
       "    <tr style=\"text-align: right;\">\n",
       "      <th></th>\n",
       "      <th>List/Cause</th>\n",
       "    </tr>\n",
       "  </thead>\n",
       "  <tbody>\n",
       "    <tr>\n",
       "      <th>1957-01-01</th>\n",
       "      <td>[[07A, A081]]</td>\n",
       "    </tr>\n",
       "    <tr>\n",
       "      <th>1999-01-01</th>\n",
       "      <td>[[104, I219]]</td>\n",
       "    </tr>\n",
       "    <tr>\n",
       "      <th>1952-01-01</th>\n",
       "      <td>[[07A, A081]]</td>\n",
       "    </tr>\n",
       "    <tr>\n",
       "      <th>1969-01-01</th>\n",
       "      <td>[[07A, A081]]</td>\n",
       "    </tr>\n",
       "    <tr>\n",
       "      <th>1963-01-01</th>\n",
       "      <td>[[07A, A081]]</td>\n",
       "    </tr>\n",
       "    <tr>\n",
       "      <th>1996-01-01</th>\n",
       "      <td>[[104, I219]]</td>\n",
       "    </tr>\n",
       "    <tr>\n",
       "      <th>1959-01-01</th>\n",
       "      <td>[[07A, A081]]</td>\n",
       "    </tr>\n",
       "    <tr>\n",
       "      <th>2003-01-01</th>\n",
       "      <td>[[104, I219]]</td>\n",
       "    </tr>\n",
       "    <tr>\n",
       "      <th>2006-01-01</th>\n",
       "      <td>[[104, I251]]</td>\n",
       "    </tr>\n",
       "    <tr>\n",
       "      <th>1989-01-01</th>\n",
       "      <td>[[09B, B27]]</td>\n",
       "    </tr>\n",
       "    <tr>\n",
       "      <th>1973-01-01</th>\n",
       "      <td>[[08A, A083]]</td>\n",
       "    </tr>\n",
       "    <tr>\n",
       "      <th>1960-01-01</th>\n",
       "      <td>[[07A, A081]]</td>\n",
       "    </tr>\n",
       "    <tr>\n",
       "      <th>1972-01-01</th>\n",
       "      <td>[[08A, A083]]</td>\n",
       "    </tr>\n",
       "    <tr>\n",
       "      <th>2000-01-01</th>\n",
       "      <td>[[104, I219]]</td>\n",
       "    </tr>\n",
       "    <tr>\n",
       "      <th>1991-01-01</th>\n",
       "      <td>[[09B, B27]]</td>\n",
       "    </tr>\n",
       "    <tr>\n",
       "      <th>1966-01-01</th>\n",
       "      <td>[[07A, A081]]</td>\n",
       "    </tr>\n",
       "    <tr>\n",
       "      <th>1954-01-01</th>\n",
       "      <td>[[07A, A070]]</td>\n",
       "    </tr>\n",
       "    <tr>\n",
       "      <th>1971-01-01</th>\n",
       "      <td>[[08A, A083]]</td>\n",
       "    </tr>\n",
       "    <tr>\n",
       "      <th>1980-01-01</th>\n",
       "      <td>[[08A, A083]]</td>\n",
       "    </tr>\n",
       "    <tr>\n",
       "      <th>1976-01-01</th>\n",
       "      <td>[[08A, A083]]</td>\n",
       "    </tr>\n",
       "    <tr>\n",
       "      <th>1961-01-01</th>\n",
       "      <td>[[07A, A081]]</td>\n",
       "    </tr>\n",
       "    <tr>\n",
       "      <th>1990-01-01</th>\n",
       "      <td>[[09B, B27]]</td>\n",
       "    </tr>\n",
       "    <tr>\n",
       "      <th>1994-01-01</th>\n",
       "      <td>[[09B, B27]]</td>\n",
       "    </tr>\n",
       "    <tr>\n",
       "      <th>1958-01-01</th>\n",
       "      <td>[[07A, A081]]</td>\n",
       "    </tr>\n",
       "    <tr>\n",
       "      <th>1984-01-01</th>\n",
       "      <td>[[09B, B27]]</td>\n",
       "    </tr>\n",
       "    <tr>\n",
       "      <th>1977-01-01</th>\n",
       "      <td>[[08A, A083]]</td>\n",
       "    </tr>\n",
       "    <tr>\n",
       "      <th>1979-01-01</th>\n",
       "      <td>[[08A, A083]]</td>\n",
       "    </tr>\n",
       "    <tr>\n",
       "      <th>2005-01-01</th>\n",
       "      <td>[[104, I219]]</td>\n",
       "    </tr>\n",
       "    <tr>\n",
       "      <th>2007-01-01</th>\n",
       "      <td>[[104, I251]]</td>\n",
       "    </tr>\n",
       "    <tr>\n",
       "      <th>1988-01-01</th>\n",
       "      <td>[[09B, B27]]</td>\n",
       "    </tr>\n",
       "    <tr>\n",
       "      <th>1967-01-01</th>\n",
       "      <td>[[07A, A081]]</td>\n",
       "    </tr>\n",
       "    <tr>\n",
       "      <th>1975-01-01</th>\n",
       "      <td>[[08A, A083]]</td>\n",
       "    </tr>\n",
       "    <tr>\n",
       "      <th>2001-01-01</th>\n",
       "      <td>[[104, I219]]</td>\n",
       "    </tr>\n",
       "    <tr>\n",
       "      <th>1974-01-01</th>\n",
       "      <td>[[08A, A083]]</td>\n",
       "    </tr>\n",
       "    <tr>\n",
       "      <th>1953-01-01</th>\n",
       "      <td>[[07A, A070]]</td>\n",
       "    </tr>\n",
       "    <tr>\n",
       "      <th>1981-01-01</th>\n",
       "      <td>[[09B, B27]]</td>\n",
       "    </tr>\n",
       "    <tr>\n",
       "      <th>1982-01-01</th>\n",
       "      <td>[[09B, B27]]</td>\n",
       "    </tr>\n",
       "    <tr>\n",
       "      <th>1993-01-01</th>\n",
       "      <td>[[09B, B27]]</td>\n",
       "    </tr>\n",
       "    <tr>\n",
       "      <th>1995-01-01</th>\n",
       "      <td>[[09B, B27]]</td>\n",
       "    </tr>\n",
       "    <tr>\n",
       "      <th>1962-01-01</th>\n",
       "      <td>[[07A, A081]]</td>\n",
       "    </tr>\n",
       "    <tr>\n",
       "      <th>2004-01-01</th>\n",
       "      <td>[[104, I251]]</td>\n",
       "    </tr>\n",
       "    <tr>\n",
       "      <th>1964-01-01</th>\n",
       "      <td>[[07A, A081]]</td>\n",
       "    </tr>\n",
       "    <tr>\n",
       "      <th>1986-01-01</th>\n",
       "      <td>[[09B, B27]]</td>\n",
       "    </tr>\n",
       "    <tr>\n",
       "      <th>1992-01-01</th>\n",
       "      <td>[[09B, B27]]</td>\n",
       "    </tr>\n",
       "    <tr>\n",
       "      <th>1983-01-01</th>\n",
       "      <td>[[09B, B27]]</td>\n",
       "    </tr>\n",
       "    <tr>\n",
       "      <th>2009-01-01</th>\n",
       "      <td>[[104, I251]]</td>\n",
       "    </tr>\n",
       "    <tr>\n",
       "      <th>1997-01-01</th>\n",
       "      <td>[[104, I219]]</td>\n",
       "    </tr>\n",
       "    <tr>\n",
       "      <th>1965-01-01</th>\n",
       "      <td>[[07A, A081]]</td>\n",
       "    </tr>\n",
       "    <tr>\n",
       "      <th>1968-01-01</th>\n",
       "      <td>[[07A, A081]]</td>\n",
       "    </tr>\n",
       "    <tr>\n",
       "      <th>1970-01-01</th>\n",
       "      <td>[[07A, A081]]</td>\n",
       "    </tr>\n",
       "    <tr>\n",
       "      <th>1978-01-01</th>\n",
       "      <td>[[08A, A083]]</td>\n",
       "    </tr>\n",
       "    <tr>\n",
       "      <th>1987-01-01</th>\n",
       "      <td>[[09B, B27]]</td>\n",
       "    </tr>\n",
       "    <tr>\n",
       "      <th>1955-01-01</th>\n",
       "      <td>[[07A, A081]]</td>\n",
       "    </tr>\n",
       "    <tr>\n",
       "      <th>1998-01-01</th>\n",
       "      <td>[[104, I219]]</td>\n",
       "    </tr>\n",
       "    <tr>\n",
       "      <th>2002-01-01</th>\n",
       "      <td>[[104, I219]]</td>\n",
       "    </tr>\n",
       "    <tr>\n",
       "      <th>1956-01-01</th>\n",
       "      <td>[[07A, A081]]</td>\n",
       "    </tr>\n",
       "    <tr>\n",
       "      <th>2008-01-01</th>\n",
       "      <td>[[104, I251]]</td>\n",
       "    </tr>\n",
       "    <tr>\n",
       "      <th>1951-01-01</th>\n",
       "      <td>[[07A, A070]]</td>\n",
       "    </tr>\n",
       "    <tr>\n",
       "      <th>1985-01-01</th>\n",
       "      <td>[[09B, B27]]</td>\n",
       "    </tr>\n",
       "  </tbody>\n",
       "</table>\n",
       "</div>"
      ],
      "text/plain": [
       "               List/Cause\n",
       "1957-01-01  [[07A, A081]]\n",
       "1999-01-01  [[104, I219]]\n",
       "1952-01-01  [[07A, A081]]\n",
       "1969-01-01  [[07A, A081]]\n",
       "1963-01-01  [[07A, A081]]\n",
       "1996-01-01  [[104, I219]]\n",
       "1959-01-01  [[07A, A081]]\n",
       "2003-01-01  [[104, I219]]\n",
       "2006-01-01  [[104, I251]]\n",
       "1989-01-01   [[09B, B27]]\n",
       "1973-01-01  [[08A, A083]]\n",
       "1960-01-01  [[07A, A081]]\n",
       "1972-01-01  [[08A, A083]]\n",
       "2000-01-01  [[104, I219]]\n",
       "1991-01-01   [[09B, B27]]\n",
       "1966-01-01  [[07A, A081]]\n",
       "1954-01-01  [[07A, A070]]\n",
       "1971-01-01  [[08A, A083]]\n",
       "1980-01-01  [[08A, A083]]\n",
       "1976-01-01  [[08A, A083]]\n",
       "1961-01-01  [[07A, A081]]\n",
       "1990-01-01   [[09B, B27]]\n",
       "1994-01-01   [[09B, B27]]\n",
       "1958-01-01  [[07A, A081]]\n",
       "1984-01-01   [[09B, B27]]\n",
       "1977-01-01  [[08A, A083]]\n",
       "1979-01-01  [[08A, A083]]\n",
       "2005-01-01  [[104, I219]]\n",
       "2007-01-01  [[104, I251]]\n",
       "1988-01-01   [[09B, B27]]\n",
       "1967-01-01  [[07A, A081]]\n",
       "1975-01-01  [[08A, A083]]\n",
       "2001-01-01  [[104, I219]]\n",
       "1974-01-01  [[08A, A083]]\n",
       "1953-01-01  [[07A, A070]]\n",
       "1981-01-01   [[09B, B27]]\n",
       "1982-01-01   [[09B, B27]]\n",
       "1993-01-01   [[09B, B27]]\n",
       "1995-01-01   [[09B, B27]]\n",
       "1962-01-01  [[07A, A081]]\n",
       "2004-01-01  [[104, I251]]\n",
       "1964-01-01  [[07A, A081]]\n",
       "1986-01-01   [[09B, B27]]\n",
       "1992-01-01   [[09B, B27]]\n",
       "1983-01-01   [[09B, B27]]\n",
       "2009-01-01  [[104, I251]]\n",
       "1997-01-01  [[104, I219]]\n",
       "1965-01-01  [[07A, A081]]\n",
       "1968-01-01  [[07A, A081]]\n",
       "1970-01-01  [[07A, A081]]\n",
       "1978-01-01  [[08A, A083]]\n",
       "1987-01-01   [[09B, B27]]\n",
       "1955-01-01  [[07A, A081]]\n",
       "1998-01-01  [[104, I219]]\n",
       "2002-01-01  [[104, I219]]\n",
       "1956-01-01  [[07A, A081]]\n",
       "2008-01-01  [[104, I251]]\n",
       "1951-01-01  [[07A, A070]]\n",
       "1985-01-01   [[09B, B27]]"
      ]
     },
     "execution_count": 5,
     "metadata": {},
     "output_type": "execute_result"
    }
   ],
   "source": [
    "# Creates a database with all death causes \n",
    "# except for A000, B000, B00 and AAA.\n",
    "all_deaths_isl = icd_all_isl[-icd_all_isl['Cause'].isin(['A000','B000','B00','AAA'])]\n",
    "\n",
    "# Creates a dict of the number one cause of death for each year.\n",
    "deaths_types_year = {}\n",
    "for year in set(all_deaths_isl['Year']):\n",
    "    deaths_types_year[year] = all_deaths_isl[all_deaths_isl['Year']==year].sort_values(by=\"Deaths1\", ascending=False).head(1)\n",
    "    deaths_types_year[year] = deaths_types_year[year][['List','Cause']].values\n",
    "\n",
    "# Creates a dataframe of all the list convention type \n",
    "# and cause code by date.\n",
    "deaths_types_year_df = pd.DataFrame.from_dict(deaths_types_year, orient='index')\n",
    "deaths_types_year_df.columns=['List/Cause']\n",
    "deaths_types_year_df"
   ]
  },
  {
   "cell_type": "markdown",
   "metadata": {},
   "source": [
    "From this data, we can see that there are only a small number of re-occurring codes, which we can see in Table 1.\n",
    "\n",
    "|List|Code|Cause |\n",
    "|:---|:---|:-----|\n",
    "|07A |A070|Vascular lesions affecting central nervous system|\n",
    "|07A |A081|Arteriosclerotic and degenerative heart disease|\n",
    "|08A |A083|Ischaemic heart disease|\n",
    "|09B |B27 |Ischaemic heart disease|\n",
    "|104 |I219|Acute myocardial infarction, unspecified|\n",
    "|104 |I251|Atherosclerotic heart disease|\n",
    "\n",
    "<strong><center><small>Table 1 - List of top causes of death from 1951-2009 <br>(WHO 2017b)</small></center></strong>\n",
    "\n",
    "The overwhelming common theme amongst these causes is heart disease. This was to be expected, as worldwide, heart disease is the number cause of death (WHO 2017a). \n",
    "\n",
    "It should also be noted that from the ICD revisions that were used.\n",
    "\n",
    "|Years Used |Revision|\n",
    "|:----------|:-------|\n",
    "|1951-1970  |07A     |\n",
    "|1971-1980  |08A     |\n",
    "|1981-1995  |09B     |\n",
    "|1996-2009  |104     |\n",
    "\n",
    "<strong><center><small>Table 2 - ICD revisions used in Iceland</small></center></strong>\n",
    "\n"
   ]
  },
  {
   "cell_type": "markdown",
   "metadata": {},
   "source": [
    "### Functions\n",
    "\n",
    "The following functions are used throughout the analysis section. They filter for external deaths and for accidental deaths. Note that the external deaths function is only used for datasets involving Iceland, as other countries have different ICD convention reporting cause codes."
   ]
  },
  {
   "cell_type": "code",
   "execution_count": 6,
   "metadata": {
    "collapsed": true
   },
   "outputs": [],
   "source": [
    "\"\"\" Finds the and sorts the causes of all deaths for a given year.\n",
    "    Removes all cause codes that total deaths.\n",
    "\n",
    "    Args:\n",
    "        df (df)   : A dataframe already sorted for a single country.\n",
    "        year (str): The required year of inquiry.\n",
    "        \n",
    "    Returns: \n",
    "        Series: The top 20 causes of deaths sorted\n",
    "        descending by number of deaths.\n",
    "\"\"\"\n",
    "def deaths_all(df, year):\n",
    "    year_df = df[df['Year']==year]\n",
    "    year_df = year_df[-year_df['Cause'].isin(['A000','B000','B00','AAA'])]\n",
    "    grouped_df = year_df.groupby(by=\"Cause\").sum().sort_values(by=\"Deaths1\", ascending=False)\n",
    "    return grouped_df['Deaths1']"
   ]
  },
  {
   "cell_type": "code",
   "execution_count": 7,
   "metadata": {
    "collapsed": true
   },
   "outputs": [],
   "source": [
    "\"\"\" Finds the and sorts causes of deaths due to injury or accident\n",
    "    for a given year. Removes all cause codes that total deaths.\n",
    "\n",
    "    Args:\n",
    "        df (df)   : A dataframe already sorted for a single country.\n",
    "        year (str): The required year of inquiry.\n",
    "        \n",
    "    Returns: \n",
    "        Series: Causes of deaths sorted by descending by number \n",
    "        of deaths.\n",
    "\"\"\"\n",
    "def deaths_ext(df, year):\n",
    "    year_df = df[df['Year']==year]\n",
    "    year_df = year_df[-year_df['Cause'].isin(['A000','B000','B00','AAA'])]\n",
    "    \n",
    "    # Different sorting methods depending on the year.\n",
    "    if year < '1996':\n",
    "        grouped_df = year_df[year_df['Cause'].isin(acc_code_789)]\n",
    "    elif year >= '1996':\n",
    "        grouped_df = year_df[year_df['Cause'].str.contains('V|W|X|Y')]\n",
    "        \n",
    "    grouped_df = grouped_df.groupby(by=\"Cause\").sum().sort_values(by=\"Deaths1\", ascending=False)\n",
    "    return grouped_df['Deaths1']"
   ]
  },
  {
   "cell_type": "markdown",
   "metadata": {},
   "source": [
    "---\n",
    "## Analysis & Discussion"
   ]
  },
  {
   "cell_type": "markdown",
   "metadata": {},
   "source": [
    "### What are the current leading causes of injury deaths in Iceland?\n",
    "\n",
    "To answer this question, the most current year's data was used. For Iceland, the latest year was 2009. Therefore only the `icd_10_isl` dataframe was needed."
   ]
  },
  {
   "cell_type": "code",
   "execution_count": 8,
   "metadata": {
    "scrolled": true
   },
   "outputs": [
    {
     "data": {
      "text/plain": [
       "Cause\n",
       "X709    14\n",
       "W199    13\n",
       "X590    12\n",
       "Y119    10\n",
       "X619     5\n",
       "Name: Deaths1, dtype: int64"
      ]
     },
     "execution_count": 8,
     "metadata": {},
     "output_type": "execute_result"
    }
   ],
   "source": [
    "# Filtering the dataframe to only include \n",
    "# external (accident and injury) deaths.\n",
    "deaths_ext_isl = icd_10_isl[icd_10_isl['Cause'].str.contains('V|W|X|Y')]\n",
    "\n",
    "# Filtering for just 2009.\n",
    "deaths_ext_isl_2009 = deaths_ext_isl[deaths_ext_isl['Year']=='2009']\n",
    "\n",
    "# Grouping by causes so that all sexes are summed.\n",
    "causes_ext_2009 = deaths_ext_isl_2009.groupby(by='Cause').sum().sort_values(by='Deaths1', ascending=False)\n",
    "\n",
    "causes_by_deaths = causes_ext_2009['Deaths1']\n",
    "causes_by_deaths.head(5)"
   ]
  },
  {
   "cell_type": "markdown",
   "metadata": {},
   "source": [
    "#### The Top 5 causes of Death by Accident or Injury\n",
    "\n",
    "The causes for the top five causes of death by accident or injury are listed below.\n",
    "\n",
    "|Code|Cause|\n",
    "|:---|:----|\n",
    "|X709|Intentional self-harm by hanging, strangulation and suffocation|\n",
    "|W199|Unspecified fall|\n",
    "|X590|Exposure to unspecified factor causing fracture|\n",
    "|Y119|Poisoning by and exposure to antiepileptic, sedative-hypnotic, antiparkinsonism and psychotropic drugs, not elsewhere classified, undetermined intent|\n",
    "|X619|Intentional self-poisoning|\n",
    "\n",
    "<strong><center><small>Table 3 - The Top 5 causes of Death by Accident or Injury</small></center></strong>"
   ]
  },
  {
   "cell_type": "code",
   "execution_count": 9,
   "metadata": {},
   "outputs": [
    {
     "data": {
      "image/png": "[encoded data removed]",
      "text/plain": [
       "<matplotlib.figure.Figure at 0x7f2635df4208>"
      ]
     },
     "metadata": {},
     "output_type": "display_data"
    }
   ],
   "source": [
    "import matplotlib.pyplot as plt \n",
    "%matplotlib inline \n",
    "\n",
    "# Creates a list of causes from the codes. Includes value for Other.\n",
    "causes = ['Intentional Self Harm'\n",
    "          ,'Unspecified Fall'\n",
    "          ,'Fractures'\n",
    "          ,'Poisoning'\n",
    "          ,'Intentional Self Poisoning'\n",
    "          ,'Other']\n",
    "\n",
    "# Creates a list of deaths, includes value for Other.\n",
    "deaths = list(causes_by_deaths[0:5])\n",
    "other_deaths = sum(causes_by_deaths[5:])\n",
    "deaths.append(other_deaths)\n",
    "\n",
    "# Displays a pie chart of the most common causes for external deaths.\n",
    "fig = plt.figure(figsize=(8,8))\n",
    "plt.pie(deaths, labels=causes, autopct='%.1f%%')\n",
    "plt.title(\"Leading Causes of Injury Deaths in Iceland for 2009\")\n",
    "plt.show()"
   ]
  },
  {
   "cell_type": "markdown",
   "metadata": {},
   "source": [
    "<strong><center><small>Chart 1 - Leading Causes of Injury Deaths in Iceland for 2009</small></center></strong>"
   ]
  },
  {
   "cell_type": "markdown",
   "metadata": {},
   "source": [
    "#### Discussion\n",
    "\n",
    "The current leading causes of injury deaths in Iceland for 2009 are, in order:\n",
    "\n",
    "- Intentional self-harm by hanging, strangulation and suffocation, \n",
    "- Unspecified fall,\n",
    "- Exposure to unspecified factor causing fracture,\n",
    "- Poisoning by and exposure to antiepileptic, sedative-hypnotic, antiparkinsonism and psychotropic drugs, not elsewhere classified, - undetermined intent,\n",
    "- Intentional self-poisoning.\n",
    "\n",
    "This is however, in accordance with how WHO classify their data. The classification groups could be sorted differently depending on different requirements. For instance, intentional self poisoning and intentional self harm could be combined into a single group. Another instance is that all of the transport accident classifications could be grouped together."
   ]
  },
  {
   "cell_type": "code",
   "execution_count": 10,
   "metadata": {},
   "outputs": [
    {
     "data": {
      "text/plain": [
       "13"
      ]
     },
     "execution_count": 10,
     "metadata": {},
     "output_type": "execute_result"
    }
   ],
   "source": [
    "# Groups all of the transport accident codes together.\n",
    "sum(causes_by_deaths[causes_by_deaths.index.str.contains('V')])"
   ]
  },
  {
   "cell_type": "markdown",
   "metadata": {},
   "source": [
    "The total number of traffic accidents in Iceland in 2009 was 13, which is 11% of the total, equal with the number of deaths unspecified falls. If it were placed in the preceding list, it would rank equal second. Thus,  how this data is interpreted is dependent on the nature of the question being asked."
   ]
  },
  {
   "cell_type": "markdown",
   "metadata": {},
   "source": [
    "---\n",
    "### Have injury deaths risen in rank over the last thirty years?"
   ]
  },
  {
   "cell_type": "markdown",
   "metadata": {},
   "source": [
    "To answer this question, the last thirty years of data was looked at starting at 1979 and going up in fifteen year increments. The data from 1979, 1994, and 2009 was analysed."
   ]
  },
  {
   "cell_type": "code",
   "execution_count": 11,
   "metadata": {
    "scrolled": true
   },
   "outputs": [
    {
     "data": {
      "text/plain": [
       "Cause\n",
       "A083    471\n",
       "A085    155\n",
       "A092    108\n",
       "A058     82\n",
       "A051     50\n",
       "A047     42\n",
       "433      40\n",
       "431      38\n",
       "A147     30\n",
       "A138     28\n",
       "A084     27\n",
       "A093     26\n",
       "A054     25\n",
       "A048     23\n",
       "A086     22\n",
       "A079     22\n",
       "153      21\n",
       "A060     21\n",
       "157      20\n",
       "A087     19\n",
       "Name: Deaths1, dtype: int64"
      ]
     },
     "execution_count": 11,
     "metadata": {},
     "output_type": "execute_result"
    }
   ],
   "source": [
    "# Creates a dataframe for all deaths from 1979.\n",
    "top_20_1979 = deaths_all(icd_789_isl, '1979').head(20)\n",
    "top_20_1979"
   ]
  },
  {
   "cell_type": "code",
   "execution_count": 12,
   "metadata": {
    "scrolled": true
   },
   "outputs": [
    {
     "data": {
      "text/plain": [
       "Cause\n",
       "B27     467\n",
       "B270    298\n",
       "B32     212\n",
       "B29     184\n",
       "B279    169\n",
       "B09     130\n",
       "B321    130\n",
       "B28     102\n",
       "B10     101\n",
       "B101     96\n",
       "B12      84\n",
       "B293     82\n",
       "B289     67\n",
       "420+     66\n",
       "B292     62\n",
       "B323     53\n",
       "B11      47\n",
       "B34      43\n",
       "B13      43\n",
       "B22      39\n",
       "Name: Deaths1, dtype: int64"
      ]
     },
     "execution_count": 12,
     "metadata": {},
     "output_type": "execute_result"
    }
   ],
   "source": [
    "# Creates a dataframe for all deaths from 1994.\n",
    "top_20_1994 = deaths_all(icd_789_isl, '1994').head(20)\n",
    "top_20_1994"
   ]
  },
  {
   "cell_type": "code",
   "execution_count": 13,
   "metadata": {
    "scrolled": true
   },
   "outputs": [
    {
     "data": {
      "text/plain": [
       "Cause\n",
       "I251    137\n",
       "C349    129\n",
       "I219    124\n",
       "G309     92\n",
       "I64      64\n",
       "I259     64\n",
       "C61      53\n",
       "I509     53\n",
       "J449     52\n",
       "J189     49\n",
       "C189     48\n",
       "C509     36\n",
       "J440     36\n",
       "G20      31\n",
       "F03      30\n",
       "C259     29\n",
       "C719     27\n",
       "I639     26\n",
       "I48      25\n",
       "I110     25\n",
       "Name: Deaths1, dtype: int64"
      ]
     },
     "execution_count": 13,
     "metadata": {},
     "output_type": "execute_result"
    }
   ],
   "source": [
    "# Creates a dataframe for all deaths from 2009.\n",
    "top_20_2009 = deaths_all(icd_10_isl, '2009')\n",
    "top_20_2009.head(20)"
   ]
  },
  {
   "cell_type": "code",
   "execution_count": 14,
   "metadata": {},
   "outputs": [
    {
     "name": "stdout",
     "output_type": "stream",
     "text": [
      "Deaths in 1979:  1270\n",
      "Deaths in 1994:  2475\n",
      "Deaths in 2009:  1130\n"
     ]
    }
   ],
   "source": [
    "# Shows the number of deaths for the top 20 \n",
    "# causes of death in 1979, 1994 and 2009.\n",
    "print(\"Deaths in 1979: \", sum(top_20_1979.head(20)))\n",
    "print(\"Deaths in 1994: \", sum(top_20_1994.head(20)))\n",
    "print(\"Deaths in 2009: \", sum(top_20_2009.head(20)))"
   ]
  },
  {
   "cell_type": "markdown",
   "metadata": {},
   "source": [
    "For a list of causes by death code see Appendix A.\n",
    "\n",
    "To see how the top ten leading causes of deaths due to accident and injury have changed over the last 30 years, a time series graph with data in five year increments, along with the relevant dataframe, has been created below. The starting year is 1979 and ends in 2009."
   ]
  },
  {
   "cell_type": "code",
   "execution_count": 15,
   "metadata": {
    "collapsed": true
   },
   "outputs": [],
   "source": [
    "# A list of years required for time series graph.\n",
    "time_series_years = ['1979','1984','1989','1994','1999','2004','2009']"
   ]
  },
  {
   "cell_type": "code",
   "execution_count": 16,
   "metadata": {},
   "outputs": [
    {
     "data": {
      "text/plain": [
       "{'1979': 140,\n",
       " '1984': 178,\n",
       " '1989': 151,\n",
       " '1994': 117,\n",
       " '1999': 36,\n",
       " '2004': 45,\n",
       " '2009': 69}"
      ]
     },
     "execution_count": 16,
     "metadata": {},
     "output_type": "execute_result"
    }
   ],
   "source": [
    "# Creates a dictionary with the key:year, \n",
    "# value:number of external deaths from top 10 causes.\n",
    "deaths_ext_years = {}\n",
    "for year in time_series_years:\n",
    "    deaths_ext_years[year]=sum(deaths_ext(icd_all_isl,year).head(10))\n",
    "\n",
    "deaths_ext_years"
   ]
  },
  {
   "cell_type": "code",
   "execution_count": 17,
   "metadata": {},
   "outputs": [
    {
     "data": {
      "text/html": [
       "<div>\n",
       "<style>\n",
       "    .dataframe thead tr:only-child th {\n",
       "        text-align: right;\n",
       "    }\n",
       "\n",
       "    .dataframe thead th {\n",
       "        text-align: left;\n",
       "    }\n",
       "\n",
       "    .dataframe tbody tr th {\n",
       "        vertical-align: top;\n",
       "    }\n",
       "</style>\n",
       "<table border=\"1\" class=\"dataframe\">\n",
       "  <thead>\n",
       "    <tr style=\"text-align: right;\">\n",
       "      <th></th>\n",
       "      <th>Deaths</th>\n",
       "    </tr>\n",
       "  </thead>\n",
       "  <tbody>\n",
       "    <tr>\n",
       "      <th>1979</th>\n",
       "      <td>140</td>\n",
       "    </tr>\n",
       "    <tr>\n",
       "      <th>1984</th>\n",
       "      <td>178</td>\n",
       "    </tr>\n",
       "    <tr>\n",
       "      <th>1989</th>\n",
       "      <td>151</td>\n",
       "    </tr>\n",
       "    <tr>\n",
       "      <th>1994</th>\n",
       "      <td>117</td>\n",
       "    </tr>\n",
       "    <tr>\n",
       "      <th>1999</th>\n",
       "      <td>36</td>\n",
       "    </tr>\n",
       "    <tr>\n",
       "      <th>2004</th>\n",
       "      <td>45</td>\n",
       "    </tr>\n",
       "    <tr>\n",
       "      <th>2009</th>\n",
       "      <td>69</td>\n",
       "    </tr>\n",
       "  </tbody>\n",
       "</table>\n",
       "</div>"
      ],
      "text/plain": [
       "      Deaths\n",
       "1979     140\n",
       "1984     178\n",
       "1989     151\n",
       "1994     117\n",
       "1999      36\n",
       "2004      45\n",
       "2009      69"
      ]
     },
     "execution_count": 17,
     "metadata": {},
     "output_type": "execute_result"
    }
   ],
   "source": [
    "# Creates a dataframe of deaths by years.\n",
    "deaths_years_df = pd.DataFrame.from_dict(deaths_ext_years, orient='index')\n",
    "deaths_years_df.columns=['Deaths']\n",
    "\n",
    "deaths_years_df"
   ]
  },
  {
   "cell_type": "code",
   "execution_count": 18,
   "metadata": {},
   "outputs": [
    {
     "data": {
      "image/png": "[encoded data removed]",
      "text/plain": [
       "<matplotlib.figure.Figure at 0x7f2626987240>"
      ]
     },
     "metadata": {},
     "output_type": "display_data"
    }
   ],
   "source": [
    "# Plots a time series graph of the number of deaths \n",
    "# due to accident and injury.\n",
    "deaths_years_df.plot(figsize=(8,4))\n",
    "plt.title(\"Deaths due to the Top Ten causes of Injury and Accidents in Iceland over 30 Years\")\n",
    "plt.ylabel(\"Number of Deaths\")\n",
    "plt.xlabel(\"Year\")\n",
    "plt.show()"
   ]
  },
  {
   "cell_type": "markdown",
   "metadata": {},
   "source": [
    "<strong><center><small>Chart 2 - Deaths due to the Top Ten causes of Injury and Accidents in Iceland over 30 Years for Iceland.</small></center></strong>"
   ]
  },
  {
   "cell_type": "markdown",
   "metadata": {},
   "source": [
    "#### Discussion\n",
    "\n",
    "As we can see from chart 2, the number of injury related causes rose from 1979 to 1984 and then dropped significantly until 1999 before starting to rise again. Almost the entire number of total deaths from accident or injuries occurs in the top ten causes, thus increasing the number of causes does will not significantly change the time series. However, there were multiple changes to ICD revision codes used to classify deaths over this 30 year period. For instance, there are a much larger number of codes used in revisions 104 for accidents and injuries then there was for revision 07A. It is possible that the change over time that is seen in chart 2 may be due to these effects rather than a change in numbers. Only using the information we have analysed in this report however, it would seem that the number of injury and accidental deaths has decreased over the 30 year period.\n",
    "\n"
   ]
  },
  {
   "cell_type": "markdown",
   "metadata": {},
   "source": [
    "---\n",
    "### Are some groups more vulnerable to injuries and violence than others?"
   ]
  },
  {
   "cell_type": "markdown",
   "metadata": {},
   "source": [
    "The top five leading causes of death for injury and accident in Iceland for 2009 are:\n",
    "\n",
    "|Code|Deaths|Cause|\n",
    "|:---|:-----|:----|\n",
    "|X709|14    |Intentional self-harm by hanging, strangulation and suffocation  |\n",
    "|W199|13    |Unspecified fall|\n",
    "|X590|12    |Exposure to unspecified factor causing fracture|\n",
    "|Y119|10    |Poisoning by and exposure to antiepileptic, sedative-hypnotic, antiparkinsonism and psychotropic drugs, not elsewhere classified, undetermined intent|\n",
    "|X619|5     |Intentional self-poisoning|\n",
    "\n",
    "<strong><center><small>Table 4 List of top causes of death from 2009 </small></center></strong>\n",
    "\n",
    "Three groups have been chosen to see if some groups are more vulnerable to deaths from accident and injury than others. These three groups are:\n",
    "\n",
    "- Youths aged 15-29, any gender.\n",
    "- Males, all ages.\n",
    "- Females, all ages.\n",
    "\n",
    "The columns `Deaths9`, `Deaths10`, and `Deaths11` contain information for the required age range.\n",
    "\n",
    "For the column `sex`, `1` is for male, `2` is for female, and `9` is for unspecified (WHO 2015 p.3)."
   ]
  },
  {
   "cell_type": "code",
   "execution_count": 19,
   "metadata": {},
   "outputs": [
    {
     "data": {
      "text/html": [
       "<div>\n",
       "<style>\n",
       "    .dataframe thead tr:only-child th {\n",
       "        text-align: right;\n",
       "    }\n",
       "\n",
       "    .dataframe thead th {\n",
       "        text-align: left;\n",
       "    }\n",
       "\n",
       "    .dataframe tbody tr th {\n",
       "        vertical-align: top;\n",
       "    }\n",
       "</style>\n",
       "<table border=\"1\" class=\"dataframe\">\n",
       "  <thead>\n",
       "    <tr style=\"text-align: right;\">\n",
       "      <th></th>\n",
       "      <th>Deaths_youth</th>\n",
       "    </tr>\n",
       "    <tr>\n",
       "      <th>Cause</th>\n",
       "      <th></th>\n",
       "    </tr>\n",
       "  </thead>\n",
       "  <tbody>\n",
       "    <tr>\n",
       "      <th>W199</th>\n",
       "      <td>0</td>\n",
       "    </tr>\n",
       "    <tr>\n",
       "      <th>X590</th>\n",
       "      <td>0</td>\n",
       "    </tr>\n",
       "    <tr>\n",
       "      <th>X619</th>\n",
       "      <td>1</td>\n",
       "    </tr>\n",
       "    <tr>\n",
       "      <th>X709</th>\n",
       "      <td>2</td>\n",
       "    </tr>\n",
       "    <tr>\n",
       "      <th>Y119</th>\n",
       "      <td>2</td>\n",
       "    </tr>\n",
       "  </tbody>\n",
       "</table>\n",
       "</div>"
      ],
      "text/plain": [
       "       Deaths_youth\n",
       "Cause              \n",
       "W199              0\n",
       "X590              0\n",
       "X619              1\n",
       "X709              2\n",
       "Y119              2"
      ]
     },
     "execution_count": 19,
     "metadata": {},
     "output_type": "execute_result"
    }
   ],
   "source": [
    "# A list of the top 5 cause codes of \n",
    "# death by accident or injury for 2009.\n",
    "codes_2009 = ['X709','W199','X590','Y119','X619']\n",
    "\n",
    "# Creates a pivot table for deaths for youths indexed by cause.\n",
    "youths_2009 = icd_10_isl[icd_10_isl['Year']=='2009']\n",
    "youths_2009 = youths_2009[youths_2009['Cause'].isin(codes_2009)]\n",
    "\n",
    "# Creates a column for deaths of youths aged 15-29 and makes them ints.\n",
    "youths_2009['Deaths_youth']=youths_2009['Deaths9']+youths_2009['Deaths10']+youths_2009['Deaths11']\n",
    "youths_2009['Deaths_youth'] = youths_2009['Deaths_youth'].astype(int)\n",
    "\n",
    "youths_2009_pt = youths_2009.pivot_table('Deaths_youth', index='Cause', aggfunc=\"sum\")\n",
    "youths_2009_pt\n"
   ]
  },
  {
   "cell_type": "code",
   "execution_count": 20,
   "metadata": {},
   "outputs": [
    {
     "data": {
      "text/html": [
       "<div>\n",
       "<style>\n",
       "    .dataframe thead tr:only-child th {\n",
       "        text-align: right;\n",
       "    }\n",
       "\n",
       "    .dataframe thead th {\n",
       "        text-align: left;\n",
       "    }\n",
       "\n",
       "    .dataframe tbody tr th {\n",
       "        vertical-align: top;\n",
       "    }\n",
       "</style>\n",
       "<table border=\"1\" class=\"dataframe\">\n",
       "  <thead>\n",
       "    <tr style=\"text-align: right;\">\n",
       "      <th>Sex</th>\n",
       "      <th>1</th>\n",
       "      <th>2</th>\n",
       "    </tr>\n",
       "    <tr>\n",
       "      <th>Cause</th>\n",
       "      <th></th>\n",
       "      <th></th>\n",
       "    </tr>\n",
       "  </thead>\n",
       "  <tbody>\n",
       "    <tr>\n",
       "      <th>W199</th>\n",
       "      <td>6</td>\n",
       "      <td>7</td>\n",
       "    </tr>\n",
       "    <tr>\n",
       "      <th>X590</th>\n",
       "      <td>6</td>\n",
       "      <td>6</td>\n",
       "    </tr>\n",
       "    <tr>\n",
       "      <th>X619</th>\n",
       "      <td>3</td>\n",
       "      <td>2</td>\n",
       "    </tr>\n",
       "    <tr>\n",
       "      <th>X709</th>\n",
       "      <td>12</td>\n",
       "      <td>2</td>\n",
       "    </tr>\n",
       "    <tr>\n",
       "      <th>Y119</th>\n",
       "      <td>5</td>\n",
       "      <td>5</td>\n",
       "    </tr>\n",
       "  </tbody>\n",
       "</table>\n",
       "</div>"
      ],
      "text/plain": [
       "Sex     1  2\n",
       "Cause       \n",
       "W199    6  7\n",
       "X590    6  6\n",
       "X619    3  2\n",
       "X709   12  2\n",
       "Y119    5  5"
      ]
     },
     "execution_count": 20,
     "metadata": {},
     "output_type": "execute_result"
    }
   ],
   "source": [
    "# Creates a pivot table for deaths split by gender \n",
    "# and index by cause for all ages.\n",
    "gender_2009 = icd_10_isl[icd_10_isl['Year']=='2009']\n",
    "gender_2009 = gender_2009[gender_2009['Cause'].isin(codes_2009)]\n",
    "gender_2009_pt = gender_2009.pivot_table(\"Deaths1\", index=\"Cause\", columns=\"Sex\", aggfunc=\"sum\")\n",
    "gender_2009_pt"
   ]
  },
  {
   "cell_type": "code",
   "execution_count": 21,
   "metadata": {},
   "outputs": [
    {
     "data": {
      "text/html": [
       "<div>\n",
       "<style>\n",
       "    .dataframe thead tr:only-child th {\n",
       "        text-align: right;\n",
       "    }\n",
       "\n",
       "    .dataframe thead th {\n",
       "        text-align: left;\n",
       "    }\n",
       "\n",
       "    .dataframe tbody tr th {\n",
       "        vertical-align: top;\n",
       "    }\n",
       "</style>\n",
       "<table border=\"1\" class=\"dataframe\">\n",
       "  <thead>\n",
       "    <tr style=\"text-align: right;\">\n",
       "      <th></th>\n",
       "      <th>Youths</th>\n",
       "      <th>Males</th>\n",
       "      <th>Females</th>\n",
       "    </tr>\n",
       "    <tr>\n",
       "      <th>Cause</th>\n",
       "      <th></th>\n",
       "      <th></th>\n",
       "      <th></th>\n",
       "    </tr>\n",
       "  </thead>\n",
       "  <tbody>\n",
       "    <tr>\n",
       "      <th>W199</th>\n",
       "      <td>0</td>\n",
       "      <td>6</td>\n",
       "      <td>7</td>\n",
       "    </tr>\n",
       "    <tr>\n",
       "      <th>X590</th>\n",
       "      <td>0</td>\n",
       "      <td>6</td>\n",
       "      <td>6</td>\n",
       "    </tr>\n",
       "    <tr>\n",
       "      <th>X619</th>\n",
       "      <td>1</td>\n",
       "      <td>3</td>\n",
       "      <td>2</td>\n",
       "    </tr>\n",
       "    <tr>\n",
       "      <th>X709</th>\n",
       "      <td>2</td>\n",
       "      <td>12</td>\n",
       "      <td>2</td>\n",
       "    </tr>\n",
       "    <tr>\n",
       "      <th>Y119</th>\n",
       "      <td>2</td>\n",
       "      <td>5</td>\n",
       "      <td>5</td>\n",
       "    </tr>\n",
       "  </tbody>\n",
       "</table>\n",
       "</div>"
      ],
      "text/plain": [
       "       Youths  Males  Females\n",
       "Cause                        \n",
       "W199        0      6        7\n",
       "X590        0      6        6\n",
       "X619        1      3        2\n",
       "X709        2     12        2\n",
       "Y119        2      5        5"
      ]
     },
     "execution_count": 21,
     "metadata": {},
     "output_type": "execute_result"
    }
   ],
   "source": [
    "# Merges pivot tables into a single dataframe.\n",
    "total_2009_pt = pd.concat([youths_2009_pt,gender_2009_pt], axis=1)\n",
    "total_2009_pt.columns=['Youths', 'Males', 'Females']\n",
    "total_2009_pt"
   ]
  },
  {
   "cell_type": "code",
   "execution_count": 22,
   "metadata": {
    "scrolled": false
   },
   "outputs": [
    {
     "data": {
      "image/png": "[encoded data removed]",
      "text/plain": [
       "<matplotlib.figure.Figure at 0x7f2626913e80>"
      ]
     },
     "metadata": {},
     "output_type": "display_data"
    }
   ],
   "source": [
    "# Creates a vertical bar chart of the \n",
    "# deaths by accident and injury in 2009 for Iceland.\n",
    "total_2009_pt.plot(kind='bar', figsize=(8,8))\n",
    "plt.title(\"Deaths by Accident and Injury in 2009 for Iceland\")\n",
    "plt.ylabel(\"Count\")\n",
    "plt.show()"
   ]
  },
  {
   "cell_type": "markdown",
   "metadata": {},
   "source": [
    "<strong><center><small>Chart 3 - Deaths by Accident and Injury in 2009 for Iceland</small></center></strong>"
   ]
  },
  {
   "cell_type": "markdown",
   "metadata": {},
   "source": [
    "#### Discussion\n",
    "\n",
    "We can see from chart 3 that there are some significant differences between groups. W199, falls, and X590, fractures, have no youth deaths. This is expected, as a fall or fracture can be fatal later in life, and is generally non-fatal for younger people. Overall, youths are generally dying less from accident and injury than people of all ages.\n",
    "\n",
    "There is also a much larger number of males dying from X709, intentional self-harm by hanging, strangulation and suffocation, over all ages. Thus, it can be stated that there is evidence that some groups are more vulnerable to deaths from injury, accident and violence than others."
   ]
  },
  {
   "cell_type": "markdown",
   "metadata": {},
   "source": [
    "---\n",
    "### Does poverty increase the risk of injury?"
   ]
  },
  {
   "cell_type": "markdown",
   "metadata": {},
   "source": [
    "Iceland is considered a High Income country located in Europe, so to compare the risk of death from accident and injury to poverty levels, a country from Europe with a Low to Medium Income was selected. The country selected was Albania. \n",
    "\n",
    "Some key statistics of the two countries are as follows."
   ]
  },
  {
   "cell_type": "markdown",
   "metadata": {},
   "source": [
    "|Statistic          |Iceland|Albania  |\n",
    "|:------------------|:------|:--------|\n",
    "|Income Code        |Eur-HI |Eur-LMI  |\n",
    "|Country Code       |4160   |4005     |\n",
    "|Population         |339,747|3,047,987|\n",
    "|GDP-Per Capita Rank|28     |128      |\n",
    "|HDI                |9      |75       |\n",
    "\n",
    "<strong><center><small>Table 5 - Iceland vs Albania Key Stats <br> (CIA 2017a, 2017b; WHO 2013; UN Development Program 2017)\n",
    "</small></center></strong>\n",
    "\n",
    "Using these figures, the population of Albania is 8.97 times larger than that of Iceland."
   ]
  },
  {
   "cell_type": "code",
   "execution_count": 23,
   "metadata": {},
   "outputs": [
    {
     "data": {
      "text/plain": [
       "Cause\n",
       "I251    137\n",
       "C349    129\n",
       "I219    124\n",
       "G309     92\n",
       "I64      64\n",
       "I259     64\n",
       "C61      53\n",
       "I509     53\n",
       "J449     52\n",
       "J189     49\n",
       "C189     48\n",
       "C509     36\n",
       "J440     36\n",
       "G20      31\n",
       "F03      30\n",
       "C259     29\n",
       "C719     27\n",
       "I639     26\n",
       "I48      25\n",
       "I110     25\n",
       "Name: Deaths1, dtype: int64"
      ]
     },
     "execution_count": 23,
     "metadata": {},
     "output_type": "execute_result"
    }
   ],
   "source": [
    "# The top 20 deaths for all causes for Iceland in 2009.\n",
    "isl_2009_all = deaths_all(icd_all_isl, '2009')\n",
    "isl_2009_all.head(20)"
   ]
  },
  {
   "cell_type": "markdown",
   "metadata": {},
   "source": [
    "|Code |Cause|\n",
    "|:----|:----|\n",
    "|I251 |Atherosclerotic heart disease  |\n",
    "|C349 |Malignant neoplasm: Bronchus or lung, unspecified  |\n",
    "|I219 |Acute myocardial infarction, unspecified  |\n",
    "|G309 |Alzheimer's disease, unspecified  |\n",
    "|I64  |Stroke, not specified as haemorrhage or infarction|\n",
    "|I259 |Chronic ischaemic heart disease, unspecified  |\n",
    "|C61  |Malignant neoplasm of prostate  |\n",
    "|I509 |Heart failure, unspecified  |\n",
    "|J449 |Chronic obstructive pulmonary disease, unspecified  |\n",
    "|J189 |Pneumonia, unspecified  |\n",
    "|C189 |Malignant neoplasm: Colon, unspecified  |\n",
    "|C509 |Malignant neoplasm: Breast, unspecified  |\n",
    "|J440 |Chronic obstructive pulmonary disease with acute lower respiratory infection  |\n",
    "|G20  |Parkinson's disease  |\n",
    "|F03  |Unspecified dementia  |\n",
    "|C259 |Malignant neoplasm: Pancreas, unspecified  |\n",
    "|C719 |Malignant neoplasm: Brain, unspecified  |\n",
    "|I639 |Cerebral infarction, unspecified  |\n",
    "|I48  |Atrial fibrillation and flutter  |\n",
    "|I110 |Hypertensive heart disease with (congestive) heart failure  |\n",
    "\n",
    "<strong><center><small>Table 6 - ICD10 Codes and Causes for Top 20 deaths in Iceland for 2009 <br> (WHO 2016)\n",
    "</small></center></strong>"
   ]
  },
  {
   "cell_type": "code",
   "execution_count": 24,
   "metadata": {},
   "outputs": [
    {
     "data": {
      "text/plain": [
       "Cause\n",
       "B29     3503\n",
       "B27     2964\n",
       "B291    2826\n",
       "B270    2413\n",
       "B28     2260\n",
       "B46     1639\n",
       "B465    1253\n",
       "CH17     891\n",
       "B09      834\n",
       "B10      715\n",
       "B101     608\n",
       "B279     551\n",
       "B32      462\n",
       "B292     373\n",
       "B12      346\n",
       "B091     302\n",
       "B30      302\n",
       "B34      285\n",
       "B11      237\n",
       "B35      213\n",
       "Name: Deaths1, dtype: int64"
      ]
     },
     "execution_count": 24,
     "metadata": {},
     "output_type": "execute_result"
    }
   ],
   "source": [
    "# A dataframe filtered for Albania.\n",
    "icd_all_alb = icd_all[icd_all['Country']==4005]\n",
    "\n",
    "# The top 20 deaths for all causes for Albania in 2009.\n",
    "alb_2009_all = deaths_all(icd_all_alb, '2009')\n",
    "alb_2009_all.head(20)"
   ]
  },
  {
   "cell_type": "markdown",
   "metadata": {},
   "source": [
    "|Code |Cause|\n",
    "|:----|:----|\n",
    "|B29  |Cerebrovascular disease|\n",
    "|B27  |Ischaemic heart disease|\n",
    "|B291 |Intracerebral and other intracranial haemorrhage|\n",
    "|B270 |Acute myocardial infarction|\n",
    "|B28  |Diseases of pulmonary circulation and other forms of heart disease|\n",
    "|B46  |Signs, symptoms and ill-defined conditions|\n",
    "|B465 |Senility without mention of psychosis|\n",
    "|CH17 |Injury and Poisoning|\n",
    "|B09  |Malignant neoplasm of digestive organs and peritoneum|\n",
    "|B10  |Malignant neoplasm of respiratory and intrathoracic organs|\n",
    "|B101 |Malignant neoplasm of trachea, bronchus and lung|\n",
    "|B279 |Other Heart Disease|\n",
    "|B32  |Other diseases of the respiratory system|\n",
    "|B292 |Cerebral infarction|\n",
    "|B12  |Malignant neoplasm of genitourinary organs|\n",
    "|B091 |Malignant neoplasm of stomach|\n",
    "|B30  |Other diseases of the circulatory system|\n",
    "|B34  |Diseases of other parts of the digestive system|\n",
    "|B11  |Malignant neoplasm of bone, connective tissue, skin and breast|\n",
    "|B35  |Diseases of urinary system|\n",
    "\n",
    "<strong><center><small>Table 7 - ICD09 Codes and Causes for Top 20 deaths in Albania for 2009 <br> (WHO 2017b)\n",
    "</small></center></strong>\n",
    "\n",
    "Note that for 2009, the ICD revision list code for Albania is ICD9-BTL."
   ]
  },
  {
   "cell_type": "markdown",
   "metadata": {},
   "source": [
    "#### Percentage of deaths due to injury and accident"
   ]
  },
  {
   "cell_type": "markdown",
   "metadata": {},
   "source": [
    "The total deaths for all causes for each country is given below."
   ]
  },
  {
   "cell_type": "code",
   "execution_count": 25,
   "metadata": {},
   "outputs": [
    {
     "name": "stdout",
     "output_type": "stream",
     "text": [
      "Iceland:  2002\n",
      "Albania:  27674\n"
     ]
    }
   ],
   "source": [
    "print(\"Iceland: \", sum(isl_2009_all))\n",
    "print(\"Albania: \", sum(alb_2009_all))"
   ]
  },
  {
   "cell_type": "code",
   "execution_count": 26,
   "metadata": {
    "collapsed": true
   },
   "outputs": [],
   "source": [
    "# Creates a dataframe of deaths due to accident and injury for Iceland.\n",
    "isl_2009_ext = deaths_ext(icd_all_isl, '2009')"
   ]
  },
  {
   "cell_type": "code",
   "execution_count": 27,
   "metadata": {
    "collapsed": true
   },
   "outputs": [],
   "source": [
    "# Creates a dataframe of deaths due to accident and injury for Albania.\n",
    "icd_all_alb_2009 = icd_all_alb[icd_all_alb['Year']=='2009']\n",
    "alb_2009_ext = icd_all_alb_2009[icd_all_alb_2009['Cause'].isin(acc_code_789)]\n",
    "alb_2009_ext = alb_2009_ext.groupby(by=\"Cause\").sum().sort_values(by=\"Deaths1\", ascending=False)\n",
    "alb_2009_ext = alb_2009_ext['Deaths1']"
   ]
  },
  {
   "cell_type": "markdown",
   "metadata": {},
   "source": [
    "The total deaths due to accident and injury for each country is given below."
   ]
  },
  {
   "cell_type": "code",
   "execution_count": 28,
   "metadata": {},
   "outputs": [
    {
     "name": "stdout",
     "output_type": "stream",
     "text": [
      "Iceland:  118\n",
      "Albania:  898\n"
     ]
    }
   ],
   "source": [
    "print(\"Iceland: \", sum(isl_2009_ext))\n",
    "print(\"Albania: \", sum(alb_2009_ext))"
   ]
  },
  {
   "cell_type": "markdown",
   "metadata": {},
   "source": [
    "Thus, the percentages of deaths due to accident and injury are:"
   ]
  },
  {
   "cell_type": "code",
   "execution_count": 29,
   "metadata": {},
   "outputs": [
    {
     "data": {
      "text/plain": [
       "5.8941058941058939"
      ]
     },
     "execution_count": 29,
     "metadata": {},
     "output_type": "execute_result"
    }
   ],
   "source": [
    "isl_pct_deaths_ext = 100*sum(isl_2009_ext)/sum(isl_2009_all)\n",
    "isl_pct_deaths_ext"
   ]
  },
  {
   "cell_type": "code",
   "execution_count": 30,
   "metadata": {},
   "outputs": [
    {
     "data": {
      "text/plain": [
       "3.2449230324492304"
      ]
     },
     "execution_count": 30,
     "metadata": {},
     "output_type": "execute_result"
    }
   ],
   "source": [
    "alb_pct_deaths_ext = 100*sum(alb_2009_ext)/sum(alb_2009_all)\n",
    "alb_pct_deaths_ext"
   ]
  },
  {
   "cell_type": "code",
   "execution_count": 31,
   "metadata": {},
   "outputs": [
    {
     "data": {
      "image/png": "[encoded data removed]",
      "text/plain": [
       "<matplotlib.figure.Figure at 0x7f2626972e80>"
      ]
     },
     "metadata": {},
     "output_type": "display_data"
    }
   ],
   "source": [
    "# Creates a dataframe for deaths by percentages\n",
    "deaths_pct = pd.DataFrame([isl_pct_deaths_ext,alb_pct_deaths_ext],\n",
    "                index=['Iceland', 'Albania'],\n",
    "                columns=['Pct'])\n",
    "\n",
    "# Displays a bar chart for deaths by percentages\n",
    "deaths_pct.plot(figsize=(4,6), kind=\"Bar\", legend=None, )\n",
    "plt.ylabel(\"Percentage\")\n",
    "plt.title(\"Percentage of Deaths due to Accident or Injury\")\n",
    "plt.show()"
   ]
  },
  {
   "cell_type": "markdown",
   "metadata": {},
   "source": [
    "<strong><center><small>Chart 4 - Percentage of Deaths by Accident and Injury in 2009 for Iceland and Albania</small></center></strong>"
   ]
  },
  {
   "cell_type": "markdown",
   "metadata": {},
   "source": [
    "#### Discussion\n",
    "\n",
    "Overall, Albania had roughly 13.8 times as many overall deaths, yet only 7.6 times as many deaths from accidents. If poverty had no impact, we would expect to see roughly the same ratios of overall deaths and deaths due to accidents and injury. However, from chart 4 we can see that there are almost half of the deaths due to accident and injury in Albania than there are in Iceland. This was an unexpected result, as initially it would be reasonable to assume that countries with lower overall income would also have more deaths due to accidents and injuries. In this case, we see the opposite. Iceland, despite having a better performing economy, has almost double the percentage of people dying from accidents and injuries.\n",
    "\n",
    "This result could be explained in a number of ways. The reporting of causes of death varies in each country, and how the deaths are coded could be substantially different. For the data from Albania, we can see that almost all of the deaths due to accident and injury come from one code, `CH171`."
   ]
  },
  {
   "cell_type": "code",
   "execution_count": 32,
   "metadata": {},
   "outputs": [
    {
     "data": {
      "text/plain": [
       "Cause\n",
       "CH17    891\n",
       "Name: Deaths1, dtype: int64"
      ]
     },
     "execution_count": 32,
     "metadata": {},
     "output_type": "execute_result"
    }
   ],
   "source": [
    "alb_2009_ext.head(1)"
   ]
  },
  {
   "cell_type": "markdown",
   "metadata": {},
   "source": [
    "This code in the ICD9-BTL revision is only applied where the data do not contain a breakdown of external deaths causes for codes B47 to B56 (WHO 2015 p.33). For 2009, Iceland was using the 104 ICD revision. The differences in coding could be the cause of the differences in percentages. \n",
    "\n",
    "It could also however be a valid result that does represent what is happening in the broader population. This could be investigated by looking at the data for the other years, and by doing statistical hypothesis testing."
   ]
  },
  {
   "cell_type": "markdown",
   "metadata": {},
   "source": [
    "---\n",
    "## Conclusion\n",
    "\n",
    "The current leading causes for deaths by accident and injury were found to be, in order: \n",
    "\n",
    "- Intentional self-harm by hanging, strangulation and suffocation, \n",
    "- Unspecified fall,\n",
    "- Exposure to unspecified factor causing fracture,\n",
    "- Poisoning by and exposure to antiepileptic, sedative-hypnotic, antiparkinsonism and psychotropic drugs, not elsewhere classified, - undetermined intent\n",
    "- Intentional self-poisoning.\n",
    "\n",
    "Altogether, these five causes made up just under half of all deaths by accident and injury.\n",
    "\n",
    "Over a thirty year period from 1979-2009, the number of deaths by accident and injury have steadily declined. This may or may not be an actual decrease in deaths however, as the death code reporting conventions changed multiple times during this period, which may account for these changes.\n",
    "\n",
    "Analysis showed that some groups were more susceptible to death by accident and injury than others. Youths were not at all affected by falls and fractures, while males of all ages were shown to be at a much higher risk of intentional self-harm by hanging, strangulation and suffocation.\n",
    "\n",
    "Poverty rates were shown to have reduced death rates by accident and injury for the countries investigated, which were Albania and Iceland. Albania showed almost half of the percentage of deaths at 3.2%, while Iceland had a rate of 5.9%. The reasons for this could be due to the differences in reporting deaths or simply a small sample size.\n",
    "\n",
    "Although each research question was answered in accordance to the requirements of this report, there are a number of avenues for further research that would enrich the analysis done here. Placing the results of this analysis into a broader context of other countries would help to see if Iceland is in line with global averages or if it is an outlier."
   ]
  },
  {
   "cell_type": "markdown",
   "metadata": {},
   "source": [
    "---\n",
    "## References\n",
    "\n",
    "Central Intelligence Agency 2017a, _The World Factbook Albania_, viewed 10 October 2017 <https://www.cia.gov/library/publications/the-world-factbook/geos/al.html> \n",
    "\n",
    "Central Intelligence Agency 2017b, _The World Factbook Iceland_, viewed 7 October 2017 <https://www.cia.gov/library/publications/the-world-factbook/geos/ic.html> \n",
    "\n",
    "World Health Organization 2017a, _Cardiovascular Diseases_, viewed 8 October 2017 <http://www.who.int/mediacentre/factsheets/fs317/en/> \n",
    "\n",
    "World Health Organization 2017b, _Classifications_, viewed 8 October 2017 <http://www.who.int/classifications/icd/en/> \n",
    "\n",
    "World Health Organization 2017c, _Health Statistics and Information Systems_, viewed 9 October 2017 <http://www.who.int/healthinfo/statistics/mortality_rawdata/en/> \n",
    "\n",
    "World Health Organization 2016, _ICD-10 Version:2016_, viewed 8 October 2017 <http://apps.who.int/classifications/icd10/browse/2016/en> \n",
    "\n",
    "World Health Organization, 2014, Injuries and Violence: The Facts 2014.\n",
    "\n",
    "World Health Organization, 2013, LMIC-HIC Country Grouping.\n",
    "\n",
    "World Health Organization, 2015, WHO Mortality Data Base Documentation.\n",
    "\n",
    "World Health Organization 2017d, _World Health Organization Iceland_, viewed 7 October 2017 <http://www.who.int/countries/isl/en/> \n",
    "\n",
    "United Nations Development Program 2017, _Human Development Index_, viewed 10 October 2017 <http://hdr.undp.org/en/composite/HDI> "
   ]
  },
  {
   "cell_type": "markdown",
   "metadata": {},
   "source": [
    "---\n",
    "## Appendices \n",
    "\n",
    "### Appendix A\n",
    "\n",
    "#### Codes for Deaths Classified as due to Injury or Violence\n",
    "\n",
    "The following is a table of the codes for deaths that have been classified as deaths due to injury or violence for this report (WHO 2015).\n",
    "\n",
    "|ICD7-A List Code|Cause |\n",
    "|:----|:-----|\n",
    "|A138 |Motor Vehicle Accidents|\n",
    "|A139 |Other transport accidents|\n",
    "|A140 |Accidental poisoning|\n",
    "|A141 |Accidental falls|\n",
    "|A142 |Accident caused by machinery|\n",
    "|A143 |Accident caused by fire and explosion of combustible material|\n",
    "|A144 |Accident caused by hot substance, corrosive liquid, steam, and radiation|\n",
    "|A145 |Accident caused by firearm|\n",
    "|A146 |Accidental drowning and submersion|\n",
    "|A147 |All other accidental causes|\n",
    "|A148 |Suicide and self-inflicted injury|\n",
    "|A149 |Homicide and injury purposely inflicted by other persons (not in war)|\n",
    "|A150 |Injury resulting from operations of war|\n",
    "||||\n",
    "|__ICD7-B List Code__|__Cause__ |\n",
    "|B047 |Motor vehicle accidents|\n",
    "|B048 |All other accidents|\n",
    "|B049 |Suicide and self-inflicted injury|\n",
    "|B050 |Homicide and operations of war|\n",
    "||||\n",
    "|__ICD8-A Code__|__Cause__ |\n",
    "|A138 |Motor Vehicle Accidents|\n",
    "|A139 |Other transport accidents|\n",
    "|A140 |Accidental poisoning|\n",
    "|A141 |Accidental falls|\n",
    "|A142 |Accidents caused by fires|\n",
    "|A143 |Accidental drowning and submersion|\n",
    "|A144 |Accident caused by firearm missiles|\n",
    "|A145 |Accidents mainly of industrial type|\n",
    "|A146 |All other accidents|\n",
    "|A147 |Suicide and self inflicted injury|\n",
    "|A148 |Homicide and injury purposely inflicted by other persons; legal intervention|\n",
    "|A149 |Injury undetermined whether accidentally or purposely inflicted|\n",
    "|A150 |Injury resulting from operations of war|\n",
    "||||\n",
    "|__ICD8-B Code__|__Cause__ |\n",
    "|B047 |Motor vehicle accidents|\n",
    "|B048 |All other accidents|\n",
    "|B049 |Suicide and self-inflicted injury|\n",
    "|B050 |All other external causes|\n",
    "||||\n",
    "|__ICD9-BTL Code__|__Cause__ |\n",
    "|B47  |Transport accidents|\n",
    "|B470 |Railway accidents|\n",
    "|B471 |Motor vehicle traffic accidents|\n",
    "|B472 |Other road vehicle accidents|\n",
    "|B473 |Water transport accidents|\n",
    "|B474 |Air and space transport accidents|\n",
    "|B479 |Remainder of B47|\n",
    "|B48  |Accidental poisoning|\n",
    "|B480 |Accidental poisoning by drugs, medicaments and biologicals|\n",
    "|B481 |Accidental poisoning by other solid and liquid substances|\n",
    "|B482 |Accidental poisoning by gases and vapours|\n",
    "|B49  |Misadventures during medical care, abnormal reactions, late complications|\n",
    "|B50  |Accidental falls|\n",
    "|B51  |Accidents caused by fire and flames|\n",
    "|B52  |Other accidents, including late effects|\n",
    "|B520 |Accidents due to natural and environmental factors|\n",
    "|B521 |Accidental drowning and submersion|\n",
    "|B522 |Foreign body accidentally entering orifice|\n",
    "|B523 |Accidents caused by machinery, and by cutting and piercing instruments|\n",
    "|B524 |Accidents caused by firearm missile|\n",
    "|B529 |Remainder of B52|\n",
    "|B53  |Drugs, medicaments causing adverse effects in therapeutic use|\n",
    "|B54  |Suicide and self-inflicted injury|\n",
    "|B55  |Homicide and injury purposely inflicted by other persons|\n",
    "|B56  |Other violence|\n",
    "|B560 |Injury undetermined whether accidentally or purposely inflicted|\n",
    "|B561 |Injury resulting from operation of war|\n",
    "|B569 |Remainder of B56|\n",
    "|CH17 |Injury and Poisoning|\n",
    "||||\n",
    "|__ICD10 Code__|__Cause__ |\n",
    "|1096 |Transport accidents|\n",
    "|1097 |Falls|\n",
    "|1098 |Accidental drowning and submersion|\n",
    "|1099 |Exposure to smoke, fire and flames|\n",
    "|1100 |Accidental poisoning by and exposure to noxious substances|\n",
    "|1101 |Intentional self-harm|\n",
    "|1102 |Assault|\n",
    "|1103 |All other external causes|\n",
    "\n",
    "For IDC10 the detailed list codes for all external causes range from V00-Y89 (WHO 2015 p.41). The causes can be found on the WHO website [here](http://apps.who.int/classifications/icd10/browse/2016/en) (WHO 2016)\n",
    "\n",
    "|Detailed Codes|Causes|\n",
    "|:--|:--| \n",
    "|V01-X59| Accidents| \n",
    "|X60-X84| Intentional self-harm|\n",
    "|X85-Y09| Assault|\n",
    "|Y10-Y34| Event of undetermined intent|\n",
    "|Y35-Y36| Legal intervention and operations of war|\n",
    "|Y40-Y84| Complications of medical and surgical care|  \n",
    "|Y85-Y89| Sequelae of external causes of morbidity and mortality|\n",
    "|Y90-Y98| Supplementary factors related to causes of morbidity and mortality classified elsewhere|"
   ]
  }
 ],
 "metadata": {
  "kernelspec": {
   "display_name": "Python 3",
   "language": "python",
   "name": "python3"
  },
  "language_info": {
   "codemirror_mode": {
    "name": "ipython",
    "version": 3
   },
   "file_extension": ".py",
   "mimetype": "text/x-python",
   "name": "python",
   "nbconvert_exporter": "python",
   "pygments_lexer": "ipython3",
   "version": "3.6.1"
  }
 },
 "nbformat": 4,
 "nbformat_minor": 2
}
